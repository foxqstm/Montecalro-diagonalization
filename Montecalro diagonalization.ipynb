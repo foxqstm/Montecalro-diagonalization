{
 "cells": [
  {
   "cell_type": "code",
   "execution_count": 54,
   "id": "5f4b6957",
   "metadata": {
    "scrolled": false
   },
   "outputs": [
    {
     "name": "stdout",
     "output_type": "stream",
     "text": [
      "preparing phase\n"
     ]
    },
    {
     "name": "stderr",
     "output_type": "stream",
     "text": [
      "100%|█████████████████████████████████████████████████████████████████████████████| 100/100 [00:00<00:00, 25081.05it/s]\n"
     ]
    },
    {
     "name": "stdout",
     "output_type": "stream",
     "text": [
      "preparing matrix\n"
     ]
    },
    {
     "name": "stderr",
     "output_type": "stream",
     "text": [
      "100%|█████████████████████████████████████████████████████████████████████████████| 5000/5000 [00:29<00:00, 169.46it/s]\n"
     ]
    },
    {
     "name": "stdout",
     "output_type": "stream",
     "text": [
      "approximate diagonalization\n"
     ]
    },
    {
     "name": "stderr",
     "output_type": "stream",
     "text": [
      "100%|████████████████████████████████████████████████████████████████████████████████| 100/100 [00:12<00:00,  8.13it/s]\n"
     ]
    },
    {
     "name": "stdout",
     "output_type": "stream",
     "text": [
      "Check error\n"
     ]
    },
    {
     "name": "stderr",
     "output_type": "stream",
     "text": [
      "100%|██████████████████████████████████████████████████████████████████████████████| 5000/5000 [01:40<00:00, 49.93it/s]\n"
     ]
    },
    {
     "name": "stdout",
     "output_type": "stream",
     "text": [
      "average error 0.018097332310963506\n",
      "0\n",
      "Best eigenvector [-0.00663808+0.01248743j -0.01278106+0.00605348j  0.00856967+0.01124993j\n",
      " ... -0.00834582+0.01141697j  0.00838409-0.0113889j\n",
      " -0.01164389+0.0080262j ]\n",
      "Best eigenvalue 20.403459074316434\n",
      "abs sum/N 0.01806465293944743\n"
     ]
    },
    {
     "data": {
      "image/png": "[encoded data removed]",
      "text/plain": [
       "<Figure size 432x288 with 1 Axes>"
      ]
     },
     "metadata": {
      "needs_background": "light"
     },
     "output_type": "display_data"
    },
    {
     "name": "stdout",
     "output_type": "stream",
     "text": [
      "Check orthogonality\n"
     ]
    },
    {
     "name": "stderr",
     "output_type": "stream",
     "text": [
      "100%|██████████████████████████████████████████████████████████████████████████████| 5000/5000 [05:25<00:00, 15.36it/s]"
     ]
    },
    {
     "name": "stdout",
     "output_type": "stream",
     "text": [
      "average orthogonality 5.096678508414617e-06\n",
      "Wall time: 7min 48s\n"
     ]
    },
    {
     "name": "stderr",
     "output_type": "stream",
     "text": [
      "\n"
     ]
    }
   ],
   "source": [
    "%%time\n",
    "%matplotlib inline\n",
    "import matplotlib.pyplot as plt\n",
    "import math\n",
    "import numpy as np\n",
    "import random\n",
    "import tqdm\n",
    "\n",
    "\n",
    "def const(N):\n",
    "    return 1/math.sqrt(N)\n",
    "\n",
    "def is_symmetric(a):\n",
    "    return np.array_equal(a, a.T)\n",
    "\n",
    "def uniform_rand(W):\n",
    "    return W*(np.random.rand()-0.5)\n",
    "\n",
    "def nrm(vec):\n",
    "    nr=np.linalg.norm(vec)\n",
    "\n",
    "    return nr\n",
    "    \n",
    "N=5000\n",
    "\n",
    "H=np.empty((N,N),dtype=complex)\n",
    "TvecNP=np.full_like(N,const(N),dtype=complex)\n",
    "Phi=np.empty((N,N),dtype=complex)\n",
    "TvecP=np.empty(N,dtype=complex)\n",
    "Phase=np.empty(0,dtype=complex)\n",
    "crossmin=0.6\n",
    "maxidx=N\n",
    "#maxidx=10\n",
    "\n",
    "TestMode=False\n",
    "EigenVectors=False\n",
    "div=50\n",
    "PS=int(N/div)\n",
    "\n",
    "print('preparing phase')\n",
    "for n in tqdm.tqdm(range(PS)):\n",
    "    np.pi*np.pi\n",
    "    r=np.random.rand()\n",
    "    ph=np.exp(2j*math.pi*r)\n",
    "    Phase=np.append(Phase,ph)\n",
    "\n",
    "W=1\n",
    "    \n",
    "print(\"preparing matrix\")\n",
    "for n in tqdm.tqdm(range(N)):\n",
    "    np.pi*np.pi\n",
    "    for m in range(N):\n",
    "        if m>=n:\n",
    "            H[m][n]=uniform_rand(W)\n",
    "        else:\n",
    "            H[m][n]=H[n][m]\n",
    "\n",
    "nrmin=[W*N**2]*N\n",
    "idx=0\n",
    "\n",
    "print(\"approximate diagonalization\")\n",
    "for phsmp in tqdm.tqdm(range(PS)):\n",
    "    np.pi*np.pi\n",
    "    ph=random.choices(Phase,k=N)\n",
    "    TvecP=TvecNP*ph\n",
    "    PhiVec=H@TvecP\n",
    "    PhiVec=PhiVec/nrm(PhiVec)\n",
    "    maxcross=0\n",
    "    if idx< maxidx:\n",
    "        for l in range(maxidx):\n",
    "            maxcross=max(maxcross,abs(TvecP.conj()@Phi[l]))\n",
    "        if crossmin>maxcross:\n",
    "            Phi[idx]=TvecP\n",
    "            nrmin[idx]=sum(abs(PhiVec-TvecP))/N\n",
    "            idx+=1\n",
    "    else:\n",
    "        for l in range(maxidx):\n",
    "            if (TvecP.conj()@Phi[l])>0.8 and nrmin[l]>sum(abs(PhiVec-TvecP))/N:\n",
    "                Phi[l]=TvecP\n",
    "                nrmin[l]=sum(abs(PhiVec-TvecP))/N\n",
    "                break                           \n",
    "\n",
    "print(\"Check error\")                \n",
    "average=0\n",
    "summin=W*N**2\n",
    "best=1\n",
    "nbest=0\n",
    "count0=0\n",
    "for n in tqdm.tqdm(range(maxidx)):\n",
    "    np.pi*np.pi\n",
    "    CPhi=H@Phi[n]\n",
    "    lam=nrm(CPhi)\n",
    "    if EigenVectors:\n",
    "        print(n)\n",
    "        print(Phi[n])\n",
    "        print(CPhi/lam)\n",
    "    if lam>10**-16:\n",
    "        b=sum(abs(CPhi/lam-Phi[n]))\n",
    "        average+=b/maxidx\n",
    "        if b<best:\n",
    "            best=b\n",
    "            nbest=n\n",
    "    else:\n",
    "        count0+=1    \n",
    "    if TestMode:\n",
    "        print('abs sum/N',sum(abs(CPhi/lam-Phi[n]))/N)\n",
    "        plt.plot(abs(Phi[n]),label='bf')\n",
    "        plt.plot(abs(CPhi/lam),label='af')\n",
    "        plt.legend()\n",
    "        plt.show()\n",
    "print('average error',average/(N-count0))\n",
    "\n",
    "print(nbest)\n",
    "print('Best eigenvector',Phi[nbest])\n",
    "CPhi=H@Phi[nbest]\n",
    "lam=nrm(CPhi)\n",
    "print('Best eigenvalue',lam)\n",
    "print('abs sum/N',sum(abs(CPhi/lam-Phi[nbest]))/N)\n",
    "plt.plot(abs(Phi[nbest]),label='bf')\n",
    "plt.plot(abs(CPhi/lam),label='af')\n",
    "plt.legend()\n",
    "plt.show()\n",
    "        \n",
    "print(\"Check orthogonality\")\n",
    "cross=0\n",
    "for n in tqdm.tqdm(range(maxidx)):\n",
    "    np.pi*np.pi\n",
    "    for m in range(maxidx):\n",
    "        if n <m:\n",
    "#            print('dot product',n,m,abs(Phi[n].conj()@Phi[m]))\n",
    "            cross+=abs(Phi[n].conj()@Phi[m])/(N*(N-1))               \n",
    "\n",
    "print(\"average orthogonality\",2*cross)"
   ]
  }
 ],
 "metadata": {
  "kernelspec": {
   "display_name": "Python 3 (ipykernel)",
   "language": "python",
   "name": "python3"
  },
  "language_info": {
   "codemirror_mode": {
    "name": "ipython",
    "version": 3
   },
   "file_extension": ".py",
   "mimetype": "text/x-python",
   "name": "python",
   "nbconvert_exporter": "python",
   "pygments_lexer": "ipython3",
   "version": "3.8.11"
  }
 },
 "nbformat": 4,
 "nbformat_minor": 5
}
